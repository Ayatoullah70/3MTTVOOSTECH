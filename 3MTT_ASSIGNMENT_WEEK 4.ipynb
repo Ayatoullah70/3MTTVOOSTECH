{
 "cells": [
  {
   "cell_type": "code",
   "execution_count": 37,
   "id": "9d38b6a8",
   "metadata": {},
   "outputs": [
    {
     "name": "stdout",
     "output_type": "stream",
     "text": [
      "cooking\n"
     ]
    }
   ],
   "source": [
    "# Assign a list using brackets, with elements separated by commas.\n",
    "x = [\"Now\", \"we\", \"are\", \"cooking\", \"with\", 7, \"ingredients\"]\n",
    "\n",
    "# Print element at index 3.\n",
    "print(x[3])"
   ]
  },
  {
   "cell_type": "code",
   "execution_count": 38,
   "id": "7ecd7fe1",
   "metadata": {},
   "outputs": [
    {
     "name": "stdout",
     "output_type": "stream",
     "text": [
      "ingredients\n"
     ]
    }
   ],
   "source": [
    "# Trying to access an index not in list will result in IndexError.\n",
    "print(x[6])"
   ]
  },
  {
   "cell_type": "code",
   "execution_count": 39,
   "id": "d38176c1",
   "metadata": {},
   "outputs": [
    {
     "data": {
      "text/plain": [
       "['we', 'are']"
      ]
     },
     "execution_count": 39,
     "metadata": {},
     "output_type": "execute_result"
    }
   ],
   "source": [
    "# Access part of a list by slicing.\n",
    "x[1:3]"
   ]
  },
  {
   "cell_type": "code",
   "execution_count": 40,
   "id": "f60a7a72",
   "metadata": {},
   "outputs": [
    {
     "name": "stdout",
     "output_type": "stream",
     "text": [
      "['Pineapple', 'Banana', 'Apple', 'Melon', 'Kiwi']\n"
     ]
    }
   ],
   "source": [
    "# The append() method adds an element to the end of a list.\n",
    "fruits = ['Pineapple', 'Banana', 'Apple', 'Melon']\n",
    "fruits.append('Kiwi')\n",
    "print(fruits)"
   ]
  },
  {
   "cell_type": "code",
   "execution_count": 41,
   "id": "2ca10200",
   "metadata": {},
   "outputs": [
    {
     "name": "stdout",
     "output_type": "stream",
     "text": [
      "('Masha', 'Z', 'Hopper')\n"
     ]
    }
   ],
   "source": [
    "fullname = ('Masha', 'Z', 'Hopper')\n",
    "print(fullname)"
   ]
  },
  {
   "cell_type": "code",
   "execution_count": 42,
   "id": "9091bfd5",
   "metadata": {},
   "outputs": [],
   "source": [
    "# This is a list of tuples, each representing the name, age, and position of a\n",
    "# player on a basketball team.\n",
    "team = [('Marta', 20, 'center'),\n",
    "        ('Ana', 22, 'point guard'),\n",
    "        ('Gabi', 22, 'shooting guard'),\n",
    "        ('Luz', 21, 'power forward'),\n",
    "        ('Lorena', 19, 'small forward'),\n",
    "        ]"
   ]
  },
  {
   "cell_type": "code",
   "execution_count": 43,
   "id": "ad790de8",
   "metadata": {},
   "outputs": [
    {
     "name": "stdout",
     "output_type": "stream",
     "text": [
      "Marta\n",
      "Ana\n",
      "Gabi\n",
      "Luz\n",
      "Lorena\n"
     ]
    }
   ],
   "source": [
    "# Use a for loop to loop over the list, unpack the tuple at each iteration, and\n",
    "# print one of the values.\n",
    "for name, age, position in team:\n",
    "    print(name)"
   ]
  },
  {
   "cell_type": "code",
   "execution_count": 32,
   "id": "88f331c0",
   "metadata": {},
   "outputs": [
    {
     "name": "stdout",
     "output_type": "stream",
     "text": [
      "admitted\n"
     ]
    }
   ],
   "source": [
    "jamb_score=200\n",
    "#for i in jamb_score:\n",
    "if jamb_score >= 200:\n",
    "    print(\"admitted\")\n",
    "else:\n",
    "    print(\"not admitted\")"
   ]
  },
  {
   "cell_type": "code",
   "execution_count": 33,
   "id": "6521454c",
   "metadata": {},
   "outputs": [],
   "source": [
    "def score(jamb_scores):\n",
    "    x=jamb_scores+20\n",
    "    return x"
   ]
  },
  {
   "cell_type": "code",
   "execution_count": 36,
   "id": "300b51c4",
   "metadata": {},
   "outputs": [
    {
     "data": {
      "text/plain": [
       "50"
      ]
     },
     "execution_count": 36,
     "metadata": {},
     "output_type": "execute_result"
    }
   ],
   "source": [
    "score(30)"
   ]
  },
  {
   "cell_type": "code",
   "execution_count": null,
   "id": "1a91176e",
   "metadata": {},
   "outputs": [],
   "source": []
  }
 ],
 "metadata": {
  "kernelspec": {
   "display_name": "Python 3 (ipykernel)",
   "language": "python",
   "name": "python3"
  },
  "language_info": {
   "codemirror_mode": {
    "name": "ipython",
    "version": 3
   },
   "file_extension": ".py",
   "mimetype": "text/x-python",
   "name": "python",
   "nbconvert_exporter": "python",
   "pygments_lexer": "ipython3",
   "version": "3.9.13"
  }
 },
 "nbformat": 4,
 "nbformat_minor": 5
}
