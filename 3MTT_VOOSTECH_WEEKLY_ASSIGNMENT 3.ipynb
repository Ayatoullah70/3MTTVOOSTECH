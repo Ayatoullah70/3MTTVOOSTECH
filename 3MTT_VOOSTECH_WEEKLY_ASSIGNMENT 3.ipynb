{
 "cells": [
  {
   "cell_type": "code",
   "execution_count": 15,
   "id": "6ca19bb2",
   "metadata": {},
   "outputs": [],
   "source": [
    "state_names = [\"kano\", \"kogi\", \"lagos\", \"Rivers\", \"kwara\"]"
   ]
  },
  {
   "cell_type": "code",
   "execution_count": 19,
   "id": "8ec65eaa",
   "metadata": {},
   "outputs": [],
   "source": [
    "country_names = [\"Nigeria\", \"Chad\", \"Egypt\", \"Niger\", \"DR Congo\"]"
   ]
  },
  {
   "cell_type": "code",
   "execution_count": 20,
   "id": "413ae3d0",
   "metadata": {},
   "outputs": [
    {
     "data": {
      "text/plain": [
       "'Chad'"
      ]
     },
     "execution_count": 20,
     "metadata": {},
     "output_type": "execute_result"
    }
   ],
   "source": [
    "country_names[1]"
   ]
  },
  {
   "cell_type": "code",
   "execution_count": 21,
   "id": "034b7b54",
   "metadata": {},
   "outputs": [
    {
     "data": {
      "text/plain": [
       "False"
      ]
     },
     "execution_count": 21,
     "metadata": {},
     "output_type": "execute_result"
    }
   ],
   "source": [
    "country_names[-1]==\"Cameroon\""
   ]
  },
  {
   "cell_type": "code",
   "execution_count": 27,
   "id": "b06141a5",
   "metadata": {},
   "outputs": [
    {
     "data": {
      "text/plain": [
       "['Adamawa', 'kogi', 'lagos', 'Rivers', 'kwara']"
      ]
     },
     "execution_count": 27,
     "metadata": {},
     "output_type": "execute_result"
    }
   ],
   "source": [
    "state_names[0]=\"Adamawa\"\n",
    "state_names"
   ]
  },
  {
   "cell_type": "code",
   "execution_count": 17,
   "id": "48f35df7",
   "metadata": {},
   "outputs": [
    {
     "name": "stdout",
     "output_type": "stream",
     "text": [
      "[('kano', 'Nigeria'), ('kogi', 'Chad'), ('lagos', 'Egypt'), ('Rivers', 'Niger'), ('kwara', 'DR Congo')]\n"
     ]
    }
   ],
   "source": [
    "C = zip(state_names, country_names)\n",
    "print(list(C))"
   ]
  },
  {
   "cell_type": "code",
   "execution_count": 18,
   "id": "f271ca8a",
   "metadata": {},
   "outputs": [],
   "source": [
    "students=(\"Aisha\",\"Abdul\",\"Ahmed\")"
   ]
  },
  {
   "cell_type": "code",
   "execution_count": 30,
   "id": "02d329f6",
   "metadata": {},
   "outputs": [
    {
     "data": {
      "text/plain": [
       "'Abdul'"
      ]
     },
     "execution_count": 30,
     "metadata": {},
     "output_type": "execute_result"
    }
   ],
   "source": [
    "students[1]"
   ]
  },
  {
   "cell_type": "code",
   "execution_count": 31,
   "id": "9d5753a7",
   "metadata": {},
   "outputs": [
    {
     "data": {
      "text/plain": [
       "3"
      ]
     },
     "execution_count": 31,
     "metadata": {},
     "output_type": "execute_result"
    }
   ],
   "source": [
    "len(students)"
   ]
  },
  {
   "cell_type": "code",
   "execution_count": 37,
   "id": "5385879b",
   "metadata": {},
   "outputs": [],
   "source": [
    "grade = {\"State\", \"country\", \"country code\"}"
   ]
  },
  {
   "cell_type": "code",
   "execution_count": 38,
   "id": "5618edc4",
   "metadata": {},
   "outputs": [
    {
     "data": {
      "text/plain": [
       "set"
      ]
     },
     "execution_count": 38,
     "metadata": {},
     "output_type": "execute_result"
    }
   ],
   "source": [
    "type(grade)"
   ]
  },
  {
   "cell_type": "code",
   "execution_count": null,
   "id": "327b69d7",
   "metadata": {},
   "outputs": [],
   "source": []
  }
 ],
 "metadata": {
  "kernelspec": {
   "display_name": "Python 3 (ipykernel)",
   "language": "python",
   "name": "python3"
  },
  "language_info": {
   "codemirror_mode": {
    "name": "ipython",
    "version": 3
   },
   "file_extension": ".py",
   "mimetype": "text/x-python",
   "name": "python",
   "nbconvert_exporter": "python",
   "pygments_lexer": "ipython3",
   "version": "3.9.13"
  }
 },
 "nbformat": 4,
 "nbformat_minor": 5
}
