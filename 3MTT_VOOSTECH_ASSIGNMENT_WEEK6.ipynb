{
 "cells": [
  {
   "cell_type": "code",
   "execution_count": 28,
   "id": "e0f6fde3",
   "metadata": {},
   "outputs": [],
   "source": [
    "#import my library\n",
    "import pandas as pd\n",
    "import numpy as np"
   ]
  },
  {
   "cell_type": "markdown",
   "id": "60cf84c7",
   "metadata": {},
   "source": [
    "### Step:1 \n",
    "import the Messy file"
   ]
  },
  {
   "cell_type": "code",
   "execution_count": 29,
   "id": "f25725bd",
   "metadata": {},
   "outputs": [],
   "source": [
    "data=pd.read_csv(\"student_prediction.csv\")"
   ]
  },
  {
   "cell_type": "markdown",
   "id": "4e64df27",
   "metadata": {},
   "source": [
    "### step:2\n",
    "clean my data"
   ]
  },
  {
   "cell_type": "code",
   "execution_count": 30,
   "id": "94b5ec00",
   "metadata": {},
   "outputs": [
    {
     "name": "stdout",
     "output_type": "stream",
     "text": [
      "<class 'pandas.core.frame.DataFrame'>\n",
      "RangeIndex: 145 entries, 0 to 144\n",
      "Data columns (total 33 columns):\n",
      " #   Column         Non-Null Count  Dtype \n",
      "---  ------         --------------  ----- \n",
      " 0   STUDENTID      145 non-null    object\n",
      " 1   AGE            145 non-null    int64 \n",
      " 2   GENDER         145 non-null    int64 \n",
      " 3   HS_TYPE        145 non-null    int64 \n",
      " 4   SCHOLARSHIP    145 non-null    int64 \n",
      " 5   WORK           145 non-null    int64 \n",
      " 6   ACTIVITY       145 non-null    int64 \n",
      " 7   PARTNER        145 non-null    int64 \n",
      " 8   SALARY         145 non-null    int64 \n",
      " 9   TRANSPORT      145 non-null    int64 \n",
      " 10  LIVING         145 non-null    int64 \n",
      " 11  MOTHER_EDU     145 non-null    int64 \n",
      " 12  FATHER_EDU     145 non-null    int64 \n",
      " 13  #_SIBLINGS     145 non-null    int64 \n",
      " 14  KIDS           145 non-null    int64 \n",
      " 15  MOTHER_JOB     145 non-null    int64 \n",
      " 16  FATHER_JOB     145 non-null    int64 \n",
      " 17  STUDY_HRS      145 non-null    int64 \n",
      " 18  READ_FREQ      145 non-null    int64 \n",
      " 19  READ_FREQ_SCI  145 non-null    int64 \n",
      " 20  ATTEND_DEPT    145 non-null    int64 \n",
      " 21  IMPACT         145 non-null    int64 \n",
      " 22  ATTEND         145 non-null    int64 \n",
      " 23  PREP_STUDY     145 non-null    int64 \n",
      " 24  PREP_EXAM      145 non-null    int64 \n",
      " 25  NOTES          145 non-null    int64 \n",
      " 26  LISTENS        145 non-null    int64 \n",
      " 27  LIKES_DISCUSS  145 non-null    int64 \n",
      " 28  CLASSROOM      145 non-null    int64 \n",
      " 29  CUML_GPA       145 non-null    int64 \n",
      " 30  EXP_GPA        145 non-null    int64 \n",
      " 31  COURSE ID      145 non-null    int64 \n",
      " 32  GRADE          145 non-null    int64 \n",
      "dtypes: int64(32), object(1)\n",
      "memory usage: 37.5+ KB\n"
     ]
    }
   ],
   "source": [
    "data.info()"
   ]
  },
  {
   "cell_type": "code",
   "execution_count": 32,
   "id": "6c4bc617",
   "metadata": {},
   "outputs": [
    {
     "data": {
      "text/plain": [
       "(145, 33)"
      ]
     },
     "execution_count": 32,
     "metadata": {},
     "output_type": "execute_result"
    }
   ],
   "source": [
    "data.shape"
   ]
  },
  {
   "cell_type": "code",
   "execution_count": 13,
   "id": "821430a4",
   "metadata": {},
   "outputs": [
    {
     "data": {
      "text/plain": [
       "(145, 33)"
      ]
     },
     "execution_count": 13,
     "metadata": {},
     "output_type": "execute_result"
    }
   ],
   "source": []
  },
  {
   "cell_type": "code",
   "execution_count": 33,
   "id": "19829252",
   "metadata": {},
   "outputs": [
    {
     "data": {
      "text/html": [
       "<div>\n",
       "<style scoped>\n",
       "    .dataframe tbody tr th:only-of-type {\n",
       "        vertical-align: middle;\n",
       "    }\n",
       "\n",
       "    .dataframe tbody tr th {\n",
       "        vertical-align: top;\n",
       "    }\n",
       "\n",
       "    .dataframe thead th {\n",
       "        text-align: right;\n",
       "    }\n",
       "</style>\n",
       "<table border=\"1\" class=\"dataframe\">\n",
       "  <thead>\n",
       "    <tr style=\"text-align: right;\">\n",
       "      <th></th>\n",
       "      <th>AGE</th>\n",
       "      <th>GENDER</th>\n",
       "      <th>HS_TYPE</th>\n",
       "      <th>SCHOLARSHIP</th>\n",
       "      <th>WORK</th>\n",
       "      <th>ACTIVITY</th>\n",
       "      <th>PARTNER</th>\n",
       "      <th>SALARY</th>\n",
       "      <th>TRANSPORT</th>\n",
       "      <th>LIVING</th>\n",
       "      <th>...</th>\n",
       "      <th>PREP_STUDY</th>\n",
       "      <th>PREP_EXAM</th>\n",
       "      <th>NOTES</th>\n",
       "      <th>LISTENS</th>\n",
       "      <th>LIKES_DISCUSS</th>\n",
       "      <th>CLASSROOM</th>\n",
       "      <th>CUML_GPA</th>\n",
       "      <th>EXP_GPA</th>\n",
       "      <th>COURSE ID</th>\n",
       "      <th>GRADE</th>\n",
       "    </tr>\n",
       "  </thead>\n",
       "  <tbody>\n",
       "    <tr>\n",
       "      <th>count</th>\n",
       "      <td>145.000000</td>\n",
       "      <td>145.000000</td>\n",
       "      <td>145.000000</td>\n",
       "      <td>145.000000</td>\n",
       "      <td>145.000000</td>\n",
       "      <td>145.000000</td>\n",
       "      <td>145.000000</td>\n",
       "      <td>145.000000</td>\n",
       "      <td>145.000000</td>\n",
       "      <td>145.000000</td>\n",
       "      <td>...</td>\n",
       "      <td>145.000000</td>\n",
       "      <td>145.000000</td>\n",
       "      <td>145.000000</td>\n",
       "      <td>145.000000</td>\n",
       "      <td>145.000000</td>\n",
       "      <td>145.000000</td>\n",
       "      <td>145.000000</td>\n",
       "      <td>145.000000</td>\n",
       "      <td>145.000000</td>\n",
       "      <td>145.000000</td>\n",
       "    </tr>\n",
       "    <tr>\n",
       "      <th>mean</th>\n",
       "      <td>1.620690</td>\n",
       "      <td>1.600000</td>\n",
       "      <td>1.944828</td>\n",
       "      <td>3.572414</td>\n",
       "      <td>1.662069</td>\n",
       "      <td>1.600000</td>\n",
       "      <td>1.579310</td>\n",
       "      <td>1.627586</td>\n",
       "      <td>1.620690</td>\n",
       "      <td>1.731034</td>\n",
       "      <td>...</td>\n",
       "      <td>1.337931</td>\n",
       "      <td>1.165517</td>\n",
       "      <td>2.544828</td>\n",
       "      <td>2.055172</td>\n",
       "      <td>2.393103</td>\n",
       "      <td>1.806897</td>\n",
       "      <td>3.124138</td>\n",
       "      <td>2.724138</td>\n",
       "      <td>4.131034</td>\n",
       "      <td>3.227586</td>\n",
       "    </tr>\n",
       "    <tr>\n",
       "      <th>std</th>\n",
       "      <td>0.613154</td>\n",
       "      <td>0.491596</td>\n",
       "      <td>0.537216</td>\n",
       "      <td>0.805750</td>\n",
       "      <td>0.474644</td>\n",
       "      <td>0.491596</td>\n",
       "      <td>0.495381</td>\n",
       "      <td>1.020245</td>\n",
       "      <td>1.061112</td>\n",
       "      <td>0.783999</td>\n",
       "      <td>...</td>\n",
       "      <td>0.614870</td>\n",
       "      <td>0.408483</td>\n",
       "      <td>0.564940</td>\n",
       "      <td>0.674736</td>\n",
       "      <td>0.604343</td>\n",
       "      <td>0.810492</td>\n",
       "      <td>1.301083</td>\n",
       "      <td>0.916536</td>\n",
       "      <td>3.260145</td>\n",
       "      <td>2.197678</td>\n",
       "    </tr>\n",
       "    <tr>\n",
       "      <th>min</th>\n",
       "      <td>1.000000</td>\n",
       "      <td>1.000000</td>\n",
       "      <td>1.000000</td>\n",
       "      <td>1.000000</td>\n",
       "      <td>1.000000</td>\n",
       "      <td>1.000000</td>\n",
       "      <td>1.000000</td>\n",
       "      <td>1.000000</td>\n",
       "      <td>1.000000</td>\n",
       "      <td>1.000000</td>\n",
       "      <td>...</td>\n",
       "      <td>1.000000</td>\n",
       "      <td>1.000000</td>\n",
       "      <td>1.000000</td>\n",
       "      <td>1.000000</td>\n",
       "      <td>1.000000</td>\n",
       "      <td>1.000000</td>\n",
       "      <td>1.000000</td>\n",
       "      <td>1.000000</td>\n",
       "      <td>1.000000</td>\n",
       "      <td>0.000000</td>\n",
       "    </tr>\n",
       "    <tr>\n",
       "      <th>25%</th>\n",
       "      <td>1.000000</td>\n",
       "      <td>1.000000</td>\n",
       "      <td>2.000000</td>\n",
       "      <td>3.000000</td>\n",
       "      <td>1.000000</td>\n",
       "      <td>1.000000</td>\n",
       "      <td>1.000000</td>\n",
       "      <td>1.000000</td>\n",
       "      <td>1.000000</td>\n",
       "      <td>1.000000</td>\n",
       "      <td>...</td>\n",
       "      <td>1.000000</td>\n",
       "      <td>1.000000</td>\n",
       "      <td>2.000000</td>\n",
       "      <td>2.000000</td>\n",
       "      <td>2.000000</td>\n",
       "      <td>1.000000</td>\n",
       "      <td>2.000000</td>\n",
       "      <td>2.000000</td>\n",
       "      <td>1.000000</td>\n",
       "      <td>1.000000</td>\n",
       "    </tr>\n",
       "    <tr>\n",
       "      <th>50%</th>\n",
       "      <td>2.000000</td>\n",
       "      <td>2.000000</td>\n",
       "      <td>2.000000</td>\n",
       "      <td>3.000000</td>\n",
       "      <td>2.000000</td>\n",
       "      <td>2.000000</td>\n",
       "      <td>2.000000</td>\n",
       "      <td>1.000000</td>\n",
       "      <td>1.000000</td>\n",
       "      <td>2.000000</td>\n",
       "      <td>...</td>\n",
       "      <td>1.000000</td>\n",
       "      <td>1.000000</td>\n",
       "      <td>3.000000</td>\n",
       "      <td>2.000000</td>\n",
       "      <td>2.000000</td>\n",
       "      <td>2.000000</td>\n",
       "      <td>3.000000</td>\n",
       "      <td>3.000000</td>\n",
       "      <td>3.000000</td>\n",
       "      <td>3.000000</td>\n",
       "    </tr>\n",
       "    <tr>\n",
       "      <th>75%</th>\n",
       "      <td>2.000000</td>\n",
       "      <td>2.000000</td>\n",
       "      <td>2.000000</td>\n",
       "      <td>4.000000</td>\n",
       "      <td>2.000000</td>\n",
       "      <td>2.000000</td>\n",
       "      <td>2.000000</td>\n",
       "      <td>2.000000</td>\n",
       "      <td>2.000000</td>\n",
       "      <td>2.000000</td>\n",
       "      <td>...</td>\n",
       "      <td>2.000000</td>\n",
       "      <td>1.000000</td>\n",
       "      <td>3.000000</td>\n",
       "      <td>3.000000</td>\n",
       "      <td>3.000000</td>\n",
       "      <td>2.000000</td>\n",
       "      <td>4.000000</td>\n",
       "      <td>3.000000</td>\n",
       "      <td>7.000000</td>\n",
       "      <td>5.000000</td>\n",
       "    </tr>\n",
       "    <tr>\n",
       "      <th>max</th>\n",
       "      <td>3.000000</td>\n",
       "      <td>2.000000</td>\n",
       "      <td>3.000000</td>\n",
       "      <td>5.000000</td>\n",
       "      <td>2.000000</td>\n",
       "      <td>2.000000</td>\n",
       "      <td>2.000000</td>\n",
       "      <td>5.000000</td>\n",
       "      <td>4.000000</td>\n",
       "      <td>4.000000</td>\n",
       "      <td>...</td>\n",
       "      <td>3.000000</td>\n",
       "      <td>3.000000</td>\n",
       "      <td>3.000000</td>\n",
       "      <td>3.000000</td>\n",
       "      <td>3.000000</td>\n",
       "      <td>3.000000</td>\n",
       "      <td>5.000000</td>\n",
       "      <td>4.000000</td>\n",
       "      <td>9.000000</td>\n",
       "      <td>7.000000</td>\n",
       "    </tr>\n",
       "  </tbody>\n",
       "</table>\n",
       "<p>8 rows × 32 columns</p>\n",
       "</div>"
      ],
      "text/plain": [
       "              AGE      GENDER     HS_TYPE  SCHOLARSHIP        WORK  \\\n",
       "count  145.000000  145.000000  145.000000   145.000000  145.000000   \n",
       "mean     1.620690    1.600000    1.944828     3.572414    1.662069   \n",
       "std      0.613154    0.491596    0.537216     0.805750    0.474644   \n",
       "min      1.000000    1.000000    1.000000     1.000000    1.000000   \n",
       "25%      1.000000    1.000000    2.000000     3.000000    1.000000   \n",
       "50%      2.000000    2.000000    2.000000     3.000000    2.000000   \n",
       "75%      2.000000    2.000000    2.000000     4.000000    2.000000   \n",
       "max      3.000000    2.000000    3.000000     5.000000    2.000000   \n",
       "\n",
       "         ACTIVITY     PARTNER      SALARY   TRANSPORT      LIVING  ...  \\\n",
       "count  145.000000  145.000000  145.000000  145.000000  145.000000  ...   \n",
       "mean     1.600000    1.579310    1.627586    1.620690    1.731034  ...   \n",
       "std      0.491596    0.495381    1.020245    1.061112    0.783999  ...   \n",
       "min      1.000000    1.000000    1.000000    1.000000    1.000000  ...   \n",
       "25%      1.000000    1.000000    1.000000    1.000000    1.000000  ...   \n",
       "50%      2.000000    2.000000    1.000000    1.000000    2.000000  ...   \n",
       "75%      2.000000    2.000000    2.000000    2.000000    2.000000  ...   \n",
       "max      2.000000    2.000000    5.000000    4.000000    4.000000  ...   \n",
       "\n",
       "       PREP_STUDY   PREP_EXAM       NOTES     LISTENS  LIKES_DISCUSS  \\\n",
       "count  145.000000  145.000000  145.000000  145.000000     145.000000   \n",
       "mean     1.337931    1.165517    2.544828    2.055172       2.393103   \n",
       "std      0.614870    0.408483    0.564940    0.674736       0.604343   \n",
       "min      1.000000    1.000000    1.000000    1.000000       1.000000   \n",
       "25%      1.000000    1.000000    2.000000    2.000000       2.000000   \n",
       "50%      1.000000    1.000000    3.000000    2.000000       2.000000   \n",
       "75%      2.000000    1.000000    3.000000    3.000000       3.000000   \n",
       "max      3.000000    3.000000    3.000000    3.000000       3.000000   \n",
       "\n",
       "        CLASSROOM    CUML_GPA     EXP_GPA   COURSE ID       GRADE  \n",
       "count  145.000000  145.000000  145.000000  145.000000  145.000000  \n",
       "mean     1.806897    3.124138    2.724138    4.131034    3.227586  \n",
       "std      0.810492    1.301083    0.916536    3.260145    2.197678  \n",
       "min      1.000000    1.000000    1.000000    1.000000    0.000000  \n",
       "25%      1.000000    2.000000    2.000000    1.000000    1.000000  \n",
       "50%      2.000000    3.000000    3.000000    3.000000    3.000000  \n",
       "75%      2.000000    4.000000    3.000000    7.000000    5.000000  \n",
       "max      3.000000    5.000000    4.000000    9.000000    7.000000  \n",
       "\n",
       "[8 rows x 32 columns]"
      ]
     },
     "execution_count": 33,
     "metadata": {},
     "output_type": "execute_result"
    }
   ],
   "source": [
    "data.describe()"
   ]
  },
  {
   "cell_type": "code",
   "execution_count": 36,
   "id": "3c013340",
   "metadata": {},
   "outputs": [
    {
     "data": {
      "text/plain": [
       "0.49159604012508745"
      ]
     },
     "execution_count": 36,
     "metadata": {},
     "output_type": "execute_result"
    }
   ],
   "source": [
    "data[\"GENDER\"].std()"
   ]
  },
  {
   "cell_type": "code",
   "execution_count": 37,
   "id": "4ceb89ac",
   "metadata": {},
   "outputs": [
    {
     "data": {
      "text/plain": [
       "1.6206896551724137"
      ]
     },
     "execution_count": 37,
     "metadata": {},
     "output_type": "execute_result"
    }
   ],
   "source": [
    "data[\"TRANSPORT\"].mean()"
   ]
  },
  {
   "cell_type": "code",
   "execution_count": 38,
   "id": "01a6e398",
   "metadata": {},
   "outputs": [
    {
     "data": {
      "text/plain": [
       "5"
      ]
     },
     "execution_count": 38,
     "metadata": {},
     "output_type": "execute_result"
    }
   ],
   "source": [
    "data[\"CUML_GPA\"].max()"
   ]
  },
  {
   "cell_type": "code",
   "execution_count": 39,
   "id": "7449504c",
   "metadata": {},
   "outputs": [
    {
     "data": {
      "text/plain": [
       "1"
      ]
     },
     "execution_count": 39,
     "metadata": {},
     "output_type": "execute_result"
    }
   ],
   "source": [
    "data[\"CUML_GPA\"].min()"
   ]
  },
  {
   "cell_type": "code",
   "execution_count": 40,
   "id": "aa494a72",
   "metadata": {},
   "outputs": [
    {
     "data": {
      "text/plain": [
       "1.3010826614608415"
      ]
     },
     "execution_count": 40,
     "metadata": {},
     "output_type": "execute_result"
    }
   ],
   "source": [
    "data[\"CUML_GPA\"].std()"
   ]
  },
  {
   "cell_type": "code",
   "execution_count": 41,
   "id": "8a5d12e7",
   "metadata": {},
   "outputs": [
    {
     "data": {
      "text/plain": [
       "3.1241379310344826"
      ]
     },
     "execution_count": 41,
     "metadata": {},
     "output_type": "execute_result"
    }
   ],
   "source": [
    "data[\"CUML_GPA\"].mean()"
   ]
  },
  {
   "cell_type": "code",
   "execution_count": 42,
   "id": "04aaeb67",
   "metadata": {},
   "outputs": [
    {
     "data": {
      "text/plain": [
       "1.692816091954027"
      ]
     },
     "execution_count": 42,
     "metadata": {},
     "output_type": "execute_result"
    }
   ],
   "source": [
    "data[\"CUML_GPA\"].var()"
   ]
  },
  {
   "cell_type": "code",
   "execution_count": 43,
   "id": "3e27405e",
   "metadata": {},
   "outputs": [
    {
     "data": {
      "text/plain": [
       "count    145.000000\n",
       "mean       3.124138\n",
       "std        1.301083\n",
       "min        1.000000\n",
       "25%        2.000000\n",
       "50%        3.000000\n",
       "75%        4.000000\n",
       "max        5.000000\n",
       "Name: CUML_GPA, dtype: float64"
      ]
     },
     "execution_count": 43,
     "metadata": {},
     "output_type": "execute_result"
    }
   ],
   "source": [
    "data[\"CUML_GPA\"].describe()"
   ]
  },
  {
   "cell_type": "code",
   "execution_count": null,
   "id": "3f01a368",
   "metadata": {},
   "outputs": [],
   "source": []
  }
 ],
 "metadata": {
  "kernelspec": {
   "display_name": "Python 3 (ipykernel)",
   "language": "python",
   "name": "python3"
  },
  "language_info": {
   "codemirror_mode": {
    "name": "ipython",
    "version": 3
   },
   "file_extension": ".py",
   "mimetype": "text/x-python",
   "name": "python",
   "nbconvert_exporter": "python",
   "pygments_lexer": "ipython3",
   "version": "3.9.13"
  }
 },
 "nbformat": 4,
 "nbformat_minor": 5
}
